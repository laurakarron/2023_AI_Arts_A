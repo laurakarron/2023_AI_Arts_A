{
 "cells": [
  {
   "cell_type": "markdown",
   "id": "71d576de",
   "metadata": {},
   "source": [
    "# Week 1: Getting started with Anaconda, Jupyter Notebook and Python"
   ]
  },
  {
   "cell_type": "markdown",
   "id": "fe2bf68a",
   "metadata": {},
   "source": [
    "I chose this course in order to gain a better understanding of how AI relates to the humanities as there are many interesting overlaps between the two areas. In the future I would like to work in the creative industry but approach it from a more technology informed perspective so this course seemed like the perfect choice."
   ]
  },
  {
   "cell_type": "markdown",
   "id": "e6c655ae",
   "metadata": {},
   "source": [
    "I have been interested in AI for a while now but don't really have much first hand experience with it yet. As for Python, I have previously done a computing science course in which I learned some of the basics but I would still consider myself a beginner."
   ]
  },
  {
   "cell_type": "markdown",
   "id": "3ceeed25",
   "metadata": {},
   "source": [
    "In this course I expect to learn more about current developments relating to AI, gain skills that help me become more comfortable with AI, and create a portfolio that will be useful for my further studies."
   ]
  },
  {
   "cell_type": "code",
   "execution_count": 1,
   "id": "e7113fc8",
   "metadata": {},
   "outputs": [
    {
     "name": "stdout",
     "output_type": "stream",
     "text": [
      "Hello, World!\n"
     ]
    }
   ],
   "source": [
    "print (\"Hello, World!\")"
   ]
  },
  {
   "cell_type": "code",
   "execution_count": 2,
   "id": "78a43ced",
   "metadata": {},
   "outputs": [
    {
     "name": "stdout",
     "output_type": "stream",
     "text": [
      "Hello, Jupyter notebook!\n"
     ]
    }
   ],
   "source": [
    "message = \"Hello, Jupyter notebook!\"\n",
    "print (message)"
   ]
  },
  {
   "cell_type": "code",
   "execution_count": 5,
   "id": "c317903d",
   "metadata": {},
   "outputs": [
    {
     "name": "stdout",
     "output_type": "stream",
     "text": [
      "Hello, Jupyter notebook!Hello, Jupyter notebook!\n"
     ]
    }
   ],
   "source": [
    "message = \"Hello, Jupyter notebook!\"\n",
    "print (message + message)"
   ]
  },
  {
   "cell_type": "code",
   "execution_count": 6,
   "id": "3727ce99",
   "metadata": {},
   "outputs": [
    {
     "name": "stdout",
     "output_type": "stream",
     "text": [
      "Hello, Jupyter notebook!Hello, Jupyter notebook!Hello, Jupyter notebook!\n"
     ]
    }
   ],
   "source": [
    "message = \"Hello, Jupyter notebook!\"\n",
    "print (message*3)"
   ]
  },
  {
   "cell_type": "code",
   "execution_count": 7,
   "id": "3310a287",
   "metadata": {},
   "outputs": [
    {
     "name": "stdout",
     "output_type": "stream",
     "text": [
      "H\n"
     ]
    }
   ],
   "source": [
    "message = \"Hello, Jupyter notebook!\"\n",
    "print (message [0])"
   ]
  },
  {
   "cell_type": "code",
   "execution_count": 9,
   "id": "8af04a5c",
   "metadata": {},
   "outputs": [
    {
     "name": "stdout",
     "output_type": "stream",
     "text": [
      "y\n"
     ]
    }
   ],
   "source": [
    "message = \"Hello, Jupyter notebook!\"\n",
    "print (message [10])"
   ]
  },
  {
   "cell_type": "code",
   "execution_count": 10,
   "id": "9b40d34e",
   "metadata": {},
   "outputs": [],
   "source": [
    "from IPython.display import *"
   ]
  },
  {
   "cell_type": "code",
   "execution_count": 11,
   "id": "8bac576e",
   "metadata": {},
   "outputs": [
    {
     "data": {
      "image/jpeg": "[encoded data removed]",
      "text/html": [
       "\n",
       "        <iframe\n",
       "            width=\"400\"\n",
       "            height=\"300\"\n",
       "            src=\"https://www.youtube.com/embed/eJDxcR1V7Qg\"\n",
       "            frameborder=\"0\"\n",
       "            allowfullscreen\n",
       "            \n",
       "        ></iframe>\n",
       "        "
      ],
      "text/plain": [
       "<IPython.lib.display.YouTubeVideo at 0x2636877ce10>"
      ]
     },
     "execution_count": 11,
     "metadata": {},
     "output_type": "execute_result"
    }
   ],
   "source": [
    "YouTubeVideo(\"eJDxcR1V7Qg\")"
   ]
  },
  {
   "cell_type": "code",
   "execution_count": null,
   "id": "55df339e",
   "metadata": {},
   "outputs": [],
   "source": []
  }
 ],
 "metadata": {
  "kernelspec": {
   "display_name": "Python 3 (ipykernel)",
   "language": "python",
   "name": "python3"
  },
  "language_info": {
   "codemirror_mode": {
    "name": "ipython",
    "version": 3
   },
   "file_extension": ".py",
   "mimetype": "text/x-python",
   "name": "python",
   "nbconvert_exporter": "python",
   "pygments_lexer": "ipython3",
   "version": "3.11.4"
  }
 },
 "nbformat": 4,
 "nbformat_minor": 5
}
